{
 "cells": [
  {
   "cell_type": "code",
   "execution_count": 10,
   "metadata": {},
   "outputs": [
    {
     "name": "stdout",
     "output_type": "stream",
     "text": [
      "complete\n"
     ]
    }
   ],
   "source": [
    "from docx_simple_service import SimpleDocxService\n",
    "\n",
    "\n",
    "docx = SimpleDocxService()\n",
    "\n",
    "# ----- ↓この範囲を繰り返す↓ ----- #\n",
    "# 表題\n",
    "docx.add_head(\"機能訓練報告書\",0)\n",
    "# 御中\n",
    "docx.open_text()\n",
    "docx.add_text('石川内科胃腸科医院デイケア　切中様御中')\n",
    "docx.close_text()\n",
    "# 日付、発信元、住所\n",
    "date='2020/2/25'\n",
    "docx.open_text()\n",
    "docx.add_text('{}\\n'.format(date))\n",
    "docx.add_text('発信者 岡本荘デイサービスセンター 下大寺\\n')\n",
    "docx.add_text('〒761-8047　高松市岡本町527-1\\n')\n",
    "docx.add_text('TEL 087-885-2828\\n')\n",
    "docx.paragraph_alignment_right()\n",
    "docx.close_text()\n",
    "# 礼文的なやつ\n",
    "docx.open_text()\n",
    "docx.add_text(\n",
    "    'いつもお世話になっております。\\n'\\\n",
    "    '各月における評価内容や、目標の達成度合いについて報告をさせていただきます。'\\\n",
    "    'ご確認のほどよろしくお願いします。また、当該利用者の目標、訓練内容の継続、'\\\n",
    "    'ADL及びIADLの改善状況を含めた目標の見直しや、訓練内容の変更など、お手数では'\\\n",
    "    'ありますが、電話等で助言のほどよろしくお願いいたします。'\n",
    ")\n",
    "docx.close_text()\n",
    "# 利用者氏名\n",
    "name='name'\n",
    "docx.add_head('利用者氏名：{}'.format(name),1)\n",
    "# 機能訓練Ⅰ\n",
    "long_goal='歩行能力維持'\n",
    "short_goal='下肢筋力および立位バランス能力維持'\n",
    "long_level='達成'\n",
    "short_level='一部'\n",
    "docx.add_head('個別機能訓練Ⅰ',1)\n",
    "docx.open_text()\n",
    "docx.add_text('【長期目標】：{}\\n'.format(long_goal))\n",
    "docx.add_text('　【達成度】：{}\\n'.format(long_level))\n",
    "docx.add_text('【短期目標】：{}\\n'.format(short_goal))\n",
    "docx.add_text('　【達成度】：{}'.format(short_level))\n",
    "docx.close_text()\n",
    "# 機能訓練Ⅱ\n",
    "long_goal='歩行能力維持'\n",
    "short_goal='下肢筋力および立位バランス能力維持'\n",
    "long_level='達成'\n",
    "short_level='一部'\n",
    "docx.add_head('個別機能訓練Ⅱ',1)\n",
    "docx.open_text()\n",
    "docx.add_text('【長期目標】：{}\\n'.format(long_goal))\n",
    "docx.add_text('　【達成度】：{}\\n'.format(long_level))\n",
    "docx.add_text('【短期目標】：{}\\n'.format(short_goal))\n",
    "docx.add_text('　【達成度】：{}'.format(short_level))\n",
    "docx.close_text()\n",
    "# 評価内容\n",
    "docx.add_head('評価内容',1)\n",
    "docx.open_text()\n",
    "docx.add_text('評価してみたけど、めっちゃいい感じでした。')\n",
    "# 改行\n",
    "docx.add_page_break()\n",
    "# ----- ↑この範囲を繰り返す↑ ----- #\n",
    "# 保存して終了\n",
    "docx.save(\"demo.docx\")\n",
    "print(\"complete\")\n"
   ]
  },
  {
   "cell_type": "code",
   "execution_count": null,
   "metadata": {},
   "outputs": [],
   "source": []
  },
  {
   "cell_type": "code",
   "execution_count": null,
   "metadata": {},
   "outputs": [],
   "source": []
  }
 ],
 "metadata": {
  "kernelspec": {
   "display_name": "Python 3",
   "language": "python",
   "name": "python3"
  },
  "language_info": {
   "codemirror_mode": {
    "name": "ipython",
    "version": 3
   },
   "file_extension": ".py",
   "mimetype": "text/x-python",
   "name": "python",
   "nbconvert_exporter": "python",
   "pygments_lexer": "ipython3",
   "version": "3.7.3"
  }
 },
 "nbformat": 4,
 "nbformat_minor": 2
}
